{
 "cells": [
  {
   "cell_type": "markdown",
   "id": "f6b37493",
   "metadata": {},
   "source": [
    "# Customer  Churn prediction\n",
    "\n",
    "Life cycle of the machine learning\n",
    "\n",
    "1. Understading the probel statement\n",
    "2. Data collection\n",
    "3. Exploratory data analysis\n",
    "4. data Cleaning\n",
    "5. Data Pre-processing\n",
    "6. model Training\n",
    "7. choose best Model"
   ]
  },
  {
   "cell_type": "markdown",
   "id": "9ad9097f",
   "metadata": {},
   "source": []
  },
  {
   "cell_type": "code",
   "execution_count": null,
   "id": "3999e8ee",
   "metadata": {},
   "outputs": [],
   "source": []
  }
 ],
 "metadata": {
  "kernelspec": {
   "display_name": "visa",
   "language": "python",
   "name": "python3"
  },
  "language_info": {
   "codemirror_mode": {
    "name": "ipython",
    "version": 3
   },
   "file_extension": ".py",
   "mimetype": "text/x-python",
   "name": "python",
   "nbconvert_exporter": "python",
   "pygments_lexer": "ipython3",
   "version": "3.8.20"
  }
 },
 "nbformat": 4,
 "nbformat_minor": 5
}
